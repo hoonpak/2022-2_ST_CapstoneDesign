{
 "cells": [
  {
   "cell_type": "markdown",
   "id": "e328e9ac",
   "metadata": {},
   "source": [
    "### 필요한 라이브러리"
   ]
  },
  {
   "cell_type": "code",
   "execution_count": 1,
   "id": "d1ca8f98",
   "metadata": {},
   "outputs": [],
   "source": [
    "import numpy as np\n",
    "import pandas as pd\n",
    "import random\n",
    "import copy\n",
    "import matplotlib.pyplot as plt\n",
    "from tqdm import tqdm"
   ]
  },
  {
   "cell_type": "markdown",
   "id": "d124bb49",
   "metadata": {},
   "source": [
    "### 필요한 변수"
   ]
  },
  {
   "cell_type": "code",
   "execution_count": 2,
   "id": "29be6007",
   "metadata": {},
   "outputs": [],
   "source": [
    "product = 28\n",
    "job_time =[[5,190,5,30,0,0,5,5],[5,190,5,30,0,0,5,5],[5,190,5,30,0,0,5,5],[5,190,5,30,0,0,5,5],[5,190,5,30,0,0,5,5],\n",
    "           [5,190,5,25,0,0,5,5],[5,190,5,25,0,0,5,5],[5,190,5,25,0,0,5,5],\n",
    "           [5,190,7,15,1,0,5,5],[5,190,7,15,1,0,5,5],[5,190,7,15,1,0,5,5],[5,190,7,15,1,0,5,5],[5,190,7,15,1,0,5,5],\n",
    "           [5,190,3,0,5,90,10,5],\n",
    "           [5,190,5,40,0,90,10,7],[5,190,5,40,0,90,10,7],[5,190,5,40,0,90,10,7],\n",
    "           [5,190,5,30,0,0,2,5],[5,190,5,30,0,0,2,5],[5,190,5,30,0,0,2,5],\n",
    "           [5,190,5,30,0,0,10,5],\n",
    "           [5,190,10,20,0,0,5,5],[5,190,10,20,0,0,5,5],\n",
    "           [5,190,7,15,1,0,5,5],[5,190,7,15,1,0,5,5],[5,190,7,15,1,0,5,5],[5,190,7,15,1,0,5,5],[5,190,7,15,1,0,5,5]]"
   ]
  },
  {
   "cell_type": "markdown",
   "id": "62a2ccc8",
   "metadata": {},
   "source": [
    "# Create Chromosome"
   ]
  },
  {
   "cell_type": "code",
   "execution_count": 3,
   "id": "9887e1a6",
   "metadata": {},
   "outputs": [],
   "source": [
    "def start_time_set(product,step,unit):\n",
    "    start_dict = {}\n",
    "    \n",
    "    for idx, value in enumerate(chromo[step-1]):\n",
    "        start_dict[idx] = value\n",
    "    \n",
    "    sort_start = sorted(chromo[step-1])\n",
    "    \n",
    "    sort_next_start = [0]*product\n",
    "    \n",
    "    start_dict_copy = start_dict.copy()\n",
    "        \n",
    "    for p in range(product):\n",
    "        for key,value in start_dict_copy.items():\n",
    "            if value == sort_start[p]:\n",
    "                start_product_index=key\n",
    "                start_dict_copy[key]=10000\n",
    "                break\n",
    "        sort_next_start[p]=sort_start[p]+job_time[start_product_index][step-1]\n",
    "        if p >= unit:\n",
    "            if sort_next_start[p-unit]>sort_start[p]:\n",
    "                sort_next_start[p]=sort_next_start[p-unit]+job_time[start_product_index][step-1]\n",
    "    \n",
    "    reorder = [0]*product\n",
    "\n",
    "    for p in range(product):\n",
    "        for key,value in start_dict.items():\n",
    "            if value == sort_start[p]:\n",
    "                start_product_index=key\n",
    "                start_dict[key]=10000\n",
    "                break\n",
    "        reorder[start_product_index] = sort_next_start[p]\n",
    "    \n",
    "    return reorder"
   ]
  },
  {
   "cell_type": "code",
   "execution_count": 4,
   "id": "9f6a343f",
   "metadata": {},
   "outputs": [],
   "source": [
    "def chromosome(product=product):\n",
    "    result=[]\n",
    "    #1단계 시작시간\n",
    "    first_step_start = [i for i in range(0,5*product,5)]\n",
    "    \n",
    "    for p in range(product):\n",
    "        first_start = random.choice(first_step_start)\n",
    "        result.append(first_start)\n",
    "        first_step_start.remove(first_start)\n",
    "    return result"
   ]
  },
  {
   "cell_type": "code",
   "execution_count": 5,
   "id": "f9818f4c",
   "metadata": {},
   "outputs": [],
   "source": [
    "def stack(chromosome,product=product):\n",
    "    \n",
    "    global chromo\n",
    "    \n",
    "    chromo=[[],[],[],[],[],[],[],[],[]]\n",
    "    \n",
    "    chromo[0] = chromosome\n",
    "    #1단계 완료시간\n",
    "    chromo[1] = start_time_set(product,1,1)\n",
    "    \n",
    "    #2단계 완료시간\n",
    "    chromo[2] = start_time_set(product,2,15)\n",
    "    \n",
    "    #3단계 완료시간\n",
    "    chromo[3] = start_time_set(product,3,2)\n",
    "    \n",
    "    #4단계 완료시간\n",
    "    chromo[4] = start_time_set(product,4,3)\n",
    "    \n",
    "    #5단계 완료시간\n",
    "    chromo[5] = start_time_set(product,5,1)\n",
    "    \n",
    "    #6단계 완료시간\n",
    "    chromo[6] = start_time_set(product,6,15)\n",
    "    \n",
    "    #7단계 완료시간\n",
    "    chromo[7] = start_time_set(product,7,2)\n",
    "    \n",
    "    #8단계 완료시간\n",
    "    chromo[8] = start_time_set(product,8,1)\n",
    "    \n",
    "    return chromo"
   ]
  },
  {
   "cell_type": "markdown",
   "id": "3a8891cb",
   "metadata": {},
   "source": [
    "# Calculate fitness function"
   ]
  },
  {
   "cell_type": "code",
   "execution_count": 6,
   "id": "7e0bac48",
   "metadata": {},
   "outputs": [],
   "source": [
    "def fitness_function(chr_):\n",
    "    result=stack(chr_)\n",
    "    return max(result[8])"
   ]
  },
  {
   "cell_type": "code",
   "execution_count": 7,
   "id": "2240a68f",
   "metadata": {},
   "outputs": [
    {
     "data": {
      "text/plain": [
       "569"
      ]
     },
     "execution_count": 7,
     "metadata": {},
     "output_type": "execute_result"
    }
   ],
   "source": [
    "test_population=[chromosome() for i in range(20)]\n",
    "fitness_function(test_population[0])"
   ]
  },
  {
   "cell_type": "markdown",
   "id": "56ff0e86",
   "metadata": {},
   "source": [
    "# Genetic algorithm - Selection"
   ]
  },
  {
   "cell_type": "code",
   "execution_count": 8,
   "id": "32a752fe",
   "metadata": {},
   "outputs": [],
   "source": [
    "def selection(population, min_repair=5):\n",
    "    \n",
    "    population_size = len(population) - min_repair\n",
    "    select_list=[]\n",
    "    \n",
    "    population_fitness = [fitness_function(i) for i in population]\n",
    "    population_fit_reciprocal = [ 1/i for i in population_fitness]\n",
    "    population_fit_pro = [i/sum(population_fit_reciprocal) for i in population_fit_reciprocal]\n",
    "    population_fit_pro_sort = sorted(population_fit_pro, reverse=True)\n",
    "    chromosome_index_list=[population_fit_pro.index(i) for i in population_fit_pro_sort]\n",
    "    prop = 0\n",
    "    pro_cumulative_sum = [0]\n",
    "    for i in population_fit_pro_sort:\n",
    "        prop += i\n",
    "        pro_cumulative_sum.append(prop)\n",
    "    \n",
    "    for i in range(min_repair):\n",
    "        select_list.append(population[population_fitness.index(min(population_fitness))])\n",
    "    \n",
    "    select_pro = [random.random() for i in range(population_size)]\n",
    "    select_pro = sorted(select_pro)\n",
    "    \n",
    "    for i in range(len(pro_cumulative_sum)-1):\n",
    "        for j in select_pro:\n",
    "            if pro_cumulative_sum[i] < j <= pro_cumulative_sum[i+1]:\n",
    "                select_index = chromosome_index_list[i]\n",
    "                select_list.append(population[select_index])\n",
    "                \n",
    "    return select_list"
   ]
  },
  {
   "cell_type": "code",
   "execution_count": 9,
   "id": "62d2c6d9",
   "metadata": {},
   "outputs": [
    {
     "name": "stdout",
     "output_type": "stream",
     "text": [
      "547\n",
      "547\n",
      "547\n",
      "547\n",
      "547\n",
      "554\n",
      "554\n",
      "559\n",
      "569\n",
      "569\n",
      "574\n",
      "574\n",
      "577\n",
      "583\n",
      "589\n",
      "604\n",
      "607\n",
      "612\n",
      "612\n",
      "612\n"
     ]
    }
   ],
   "source": [
    "test_selection_population = selection(test_population)\n",
    "for i in test_selection_population:\n",
    "    print(fitness_function(i))"
   ]
  },
  {
   "cell_type": "markdown",
   "id": "bfe201cf",
   "metadata": {},
   "source": [
    "# Genetic algorithm - Cross Over"
   ]
  },
  {
   "cell_type": "code",
   "execution_count": 10,
   "id": "ffe8eb3a",
   "metadata": {},
   "outputs": [],
   "source": [
    "def cross_over(population, product=product):\n",
    "    cross_over_population = copy.deepcopy(population)\n",
    "    population_size = len(population)\n",
    "    \n",
    "    crossover_pro = [random.random() for i in range(population_size)]\n",
    "    \n",
    "    crossover_gene = np.random.randint(0, product, size = (population_size, 2))\n",
    "    crossover_gene = np.sort(crossover_gene,axis = 1).tolist()\n",
    "    \n",
    "    for i in range(population_size):\n",
    "        if crossover_pro[i] > 0.5:\n",
    "            crossover_index_1 = crossover_gene[i][0]\n",
    "            crossover_index_2 = crossover_gene[i][1]\n",
    "\n",
    "            value_1 = population[i][crossover_index_1]\n",
    "            value_2 = population[i][crossover_index_2]\n",
    "            cross_over_population[i][crossover_index_2] = value_1\n",
    "            cross_over_population[i][crossover_index_1] = value_2\n",
    "    \n",
    "    cross_over_population_fitness = [fitness_function(i) for i in cross_over_population]\n",
    "    cross_over_population_fitness_sort = sorted(cross_over_population_fitness)\n",
    "    chromosome_index_list=[cross_over_population_fitness.index(i) for i in cross_over_population_fitness_sort]\n",
    "    result_list=[cross_over_population[i] for i in chromosome_index_list]\n",
    "    \n",
    "    return result_list"
   ]
  },
  {
   "cell_type": "code",
   "execution_count": 11,
   "id": "eb516ae7",
   "metadata": {},
   "outputs": [
    {
     "name": "stdout",
     "output_type": "stream",
     "text": [
      "537\n",
      "547\n",
      "547\n",
      "547\n",
      "547\n",
      "547\n",
      "554\n",
      "554\n",
      "569\n",
      "569\n",
      "574\n",
      "574\n",
      "577\n",
      "583\n",
      "589\n",
      "604\n",
      "607\n",
      "612\n",
      "612\n",
      "612\n"
     ]
    }
   ],
   "source": [
    "test_crossover_population = cross_over(test_selection_population)\n",
    "for i in test_crossover_population:\n",
    "    print(fitness_function(i))"
   ]
  },
  {
   "cell_type": "markdown",
   "id": "d2f3c068",
   "metadata": {},
   "source": [
    "# Genetic algorithm - Mutation"
   ]
  },
  {
   "cell_type": "code",
   "execution_count": 12,
   "id": "8c9dff7e",
   "metadata": {},
   "outputs": [],
   "source": [
    "def mutation(population):\n",
    "    mutation_population = copy.deepcopy(population)\n",
    "    N = len(population)\n",
    "    \n",
    "    mutation_pro = [random.random() for i in range(N)]\n",
    "    \n",
    "    for i in range(N):\n",
    "        if mutation_pro[i] > 0.7:\n",
    "            mutation_gene = np.random.randint(0, product-2)\n",
    "            \n",
    "            result=[]\n",
    "\n",
    "            mutation_choice = mutation_population[i][mutation_gene:]\n",
    "            \n",
    "            for p in range(len(mutation_choice)):\n",
    "                first_start = random.choice(mutation_choice)\n",
    "                result.append(first_start)\n",
    "                mutation_choice.remove(first_start)\n",
    "            \n",
    "            mutation_population[i][mutation_gene:] = result\n",
    "            \n",
    "        else:\n",
    "            pass\n",
    "            \n",
    "    mutation_population_fitness = [fitness_function(i) for i in mutation_population]\n",
    "    mutation_population_fitness_sort = sorted(mutation_population_fitness)\n",
    "    chromosome_index_list=[mutation_population_fitness.index(i) for i in mutation_population_fitness_sort]\n",
    "    result_list=[mutation_population[i] for i in chromosome_index_list]\n",
    "    \n",
    "    return result_list"
   ]
  },
  {
   "cell_type": "code",
   "execution_count": 13,
   "id": "2d4c014d",
   "metadata": {},
   "outputs": [
    {
     "name": "stdout",
     "output_type": "stream",
     "text": [
      "537\n",
      "545\n",
      "554\n",
      "554\n",
      "569\n",
      "569\n",
      "574\n",
      "574\n",
      "574\n",
      "574\n",
      "574\n",
      "577\n",
      "583\n",
      "592\n",
      "592\n",
      "607\n",
      "608\n",
      "617\n",
      "617\n",
      "617\n"
     ]
    }
   ],
   "source": [
    "test_mutation_population = mutation(test_crossover_population)\n",
    "for i in test_mutation_population:\n",
    "    print(fitness_function(i))"
   ]
  },
  {
   "cell_type": "markdown",
   "id": "203bdf7e",
   "metadata": {},
   "source": [
    "# Iteration Genetic algorithm"
   ]
  },
  {
   "cell_type": "code",
   "execution_count": 14,
   "id": "d15617c6",
   "metadata": {},
   "outputs": [
    {
     "name": "stderr",
     "output_type": "stream",
     "text": [
      "  1%|          | 1/101 [00:00<00:12,  8.07it/s]"
     ]
    },
    {
     "name": "stdout",
     "output_type": "stream",
     "text": [
      "현재 1번째 반복 중 가장 좋은 목적 함수 값 : 542\n"
     ]
    },
    {
     "name": "stderr",
     "output_type": "stream",
     "text": [
      "  7%|▋         | 7/101 [00:00<00:15,  6.25it/s]"
     ]
    },
    {
     "name": "stderr",
     "output_type": "stream",
     "text": [
      " 50%|█████     | 51/101 [00:07<00:05,  8.52it/s]"
     ]
    },
    {
     "name": "stdout",
     "output_type": "stream",
     "text": [
      "현재 51번째 반복 중 가장 좋은 목적 함수 값 : 497\n"
     ]
    },
    {
     "name": "stderr",
     "output_type": "stream",
     "text": [
      "100%|██████████| 101/101 [00:15<00:00,  6.44it/s]"
     ]
    },
    {
     "name": "stdout",
     "output_type": "stream",
     "text": [
      "현재 101번째 반복 중 가장 좋은 목적 함수 값 : 497\n"
     ]
    },
    {
     "name": "stderr",
     "output_type": "stream",
     "text": [
      "\n"
     ]
    }
   ],
   "source": [
    "now_population = [chromosome() for i in range(20)]\n",
    "for i in tqdm(range(101)):\n",
    "    fitness_list = []\n",
    "    for chromosome_ in now_population:\n",
    "        fitness_list.append(fitness_function(chromosome_))\n",
    "    min_chromosome_fit=min(fitness_list)\n",
    "    best_chromosome=now_population[fitness_list.index(min_chromosome_fit)] #현재까지 가장 좋은 경로\n",
    "    if i % 50 == 0:\n",
    "        print(f\"현재 {i+1}번째 반복 중 가장 좋은 목적 함수 값 :\", min_chromosome_fit)\n",
    "    next_population=[]\n",
    "    selection_population=selection(now_population)\n",
    "    next_population += selection_population[:4]\n",
    "    cross_over_population=cross_over(selection_population)\n",
    "    next_population += cross_over_population[:4]\n",
    "    mutation_population=mutation(cross_over_population)\n",
    "    next_population += mutation_population[:2]\n",
    "    next_population += [chromosome() for i in range(10)]\n",
    "    now_population = next_population\n",
    "best_chromosome_df = pd.DataFrame(best_chromosome)\n",
    "best_chromosome_df.to_csv(\"best_chromosome.csv\",header= True, index=False)"
   ]
  },
  {
   "cell_type": "markdown",
   "id": "e639dfd8",
   "metadata": {},
   "source": [
    "# Gantt Chart"
   ]
  },
  {
   "cell_type": "code",
   "execution_count": 15,
   "id": "58c44b65",
   "metadata": {},
   "outputs": [],
   "source": [
    "product_index = [f'P_{i+1}' for i in range(product)]\n",
    "best_chromosome = stack(best_chromosome)\n",
    "process_t = np.array(job_time).T\n",
    "for i in range(8):\n",
    "    for j in range(product):\n",
    "        best_chromosome[i+1][j] = best_chromosome[i+1][j]-job_time[j][i]\n",
    "process_st = best_chromosome[1:]"
   ]
  },
  {
   "cell_type": "code",
   "execution_count": 16,
   "id": "209175a5",
   "metadata": {},
   "outputs": [
    {
     "data": {
      "image/png": "[encoded data removed]",
      "text/plain": [
       "<Figure size 2160x1080 with 1 Axes>"
      ]
     },
     "metadata": {},
     "output_type": "display_data"
    }
   ],
   "source": [
    "fig, ax = plt.subplots(1, figsize=(30,15), facecolor='white')\n",
    "ax.barh(product_index,process_t[0], left=process_st[0],color='#8B0000',label='cleansing',edgecolor='black',linewidth=3)\n",
    "ax.barh(product_index,process_t[1], left=process_st[1],color='#FF8C00',label='macerating&drying',edgecolor='black',linewidth=3)\n",
    "ax.barh(product_index,process_t[2], left=process_st[2],color='#FFD700',label='grinding',edgecolor='black',linewidth=3)\n",
    "ax.barh(product_index,process_t[3], left=process_st[3],color='#556B2F',label='steaming',edgecolor='black',linewidth=3)\n",
    "ax.barh(product_index,process_t[4], left=process_st[4],color='#008B8B',label='punching',edgecolor='black',linewidth=3)\n",
    "ax.barh(product_index,process_t[5], left=process_st[5],color='#191970',label='cooling',edgecolor='black',linewidth=3)\n",
    "ax.barh(product_index,process_t[6], left=process_st[6],color='#FF1493',label='forming',edgecolor='black',linewidth=3)\n",
    "ax.barh(product_index,process_t[7], left=process_st[7],color='b',label='packing',edgecolor='black',linewidth=3)\n",
    "plt.title('Rice Cake Production Scheduling',size=(30))\n",
    "plt.xlabel('Time',size=(20))\n",
    "plt.ylabel('Product',size=(20))\n",
    "plt.grid(True, axis='x', color='#696969', alpha=0.5, linestyle='--')\n",
    "plt.legend(fontsize=20)\n",
    "plt.tick_params(axis='x', labelsize=20)\n",
    "plt.tick_params(axis='y', labelsize=20)\n",
    "plt.savefig('rice_cake_production_scheduling.png')\n",
    "plt.show()"
   ]
  },
  {
   "cell_type": "code",
   "execution_count": 17,
   "id": "bf1c150d",
   "metadata": {},
   "outputs": [
    {
     "name": "stdout",
     "output_type": "stream",
     "text": [
      "[45, 140, 0, 50, 70, 10, 90, 25, 120, 100, 35, 95, 115, 20, 65, 5, 60, 130, 40, 75, 85, 15, 135, 55, 125, 80, 110, 105]\n",
      "[50, 260, 5, 55, 75, 15, 205, 30, 240, 215, 40, 210, 235, 25, 70, 10, 65, 250, 45, 80, 200, 20, 255, 60, 245, 195, 230, 220]\n",
      "[240, 450, 195, 245, 265, 205, 395, 220, 430, 405, 230, 400, 425, 215, 260, 200, 255, 440, 235, 270, 390, 210, 445, 250, 435, 385, 420, 410]\n",
      "[260, 455, 200, 252, 310, 210, 400, 235, 440, 425, 237, 407, 440, 230, 282, 205, 290, 455, 265, 330, 395, 245, 457, 295, 442, 392, 427, 425]\n",
      "[290, 485, 230, 282, 340, 235, 425, 260, 455, 440, 252, 422, 456, 230, 322, 245, 330, 485, 295, 360, 425, 265, 477, 310, 457, 407, 442, 441]\n",
      "[290, 485, 230, 282, 340, 235, 425, 260, 456, 441, 253, 423, 457, 235, 322, 245, 330, 485, 295, 360, 425, 265, 477, 311, 458, 408, 443, 442]\n",
      "[290, 485, 230, 282, 340, 235, 430, 260, 456, 441, 253, 423, 457, 325, 412, 335, 420, 485, 295, 360, 428, 265, 477, 311, 461, 408, 446, 442]\n",
      "[295, 492, 235, 287, 345, 240, 441, 265, 466, 451, 258, 429, 471, 335, 422, 350, 434, 487, 300, 362, 446, 270, 482, 316, 476, 413, 461, 456]\n"
     ]
    }
   ],
   "source": [
    "for i in best_chromosome[1:]:\n",
    "    print(i)"
   ]
  },
  {
   "cell_type": "code",
   "execution_count": null,
   "id": "e491d0d4",
   "metadata": {},
   "outputs": [],
   "source": []
  }
 ],
 "metadata": {
  "kernelspec": {
   "display_name": "Python 3 (ipykernel)",
   "language": "python",
   "name": "python3"
  },
  "language_info": {
   "codemirror_mode": {
    "name": "ipython",
    "version": 3
   },
   "file_extension": ".py",
   "mimetype": "text/x-python",
   "name": "python",
   "nbconvert_exporter": "python",
   "pygments_lexer": "ipython3",
   "version": "3.9.12"
  }
 },
 "nbformat": 4,
 "nbformat_minor": 5
}
